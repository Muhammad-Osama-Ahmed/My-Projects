{
 "cells": [
  {
   "cell_type": "markdown",
   "metadata": {},
   "source": [
    "## Task\n",
    "* take password length as input\n",
    "* length must be between 6 & 12\n",
    "* generate random password having digits, special characters, upper and lower case characters"
   ]
  },
  {
   "cell_type": "code",
   "execution_count": 5,
   "metadata": {},
   "outputs": [],
   "source": [
    "import string as st, random as r"
   ]
  },
  {
   "cell_type": "code",
   "execution_count": 6,
   "metadata": {},
   "outputs": [],
   "source": [
    "# length of password\n",
    "x= lambda length:length if length<=12 and length>=6 else x(int(input(\"Enter length between 6 & 12\")))\n",
    "length=x(int(input(\"Enter length of password\")))"
   ]
  },
  {
   "cell_type": "code",
   "execution_count": 7,
   "metadata": {},
   "outputs": [],
   "source": [
    "# dataset\n",
    "dataset=[st.punctuation,st.ascii_letters]\n",
    "dataset=''.join(dataset)"
   ]
  },
  {
   "cell_type": "code",
   "execution_count": 8,
   "metadata": {},
   "outputs": [
    {
     "data": {
      "text/plain": [
       "'Yd+\"&]M'"
      ]
     },
     "execution_count": 8,
     "metadata": {},
     "output_type": "execute_result"
    }
   ],
   "source": [
    "# generate randomly from dataset\n",
    "passwordList=r.sample(dataset[:],length)\n",
    "password=\"\".join(passwordList)\n",
    "password\n"
   ]
  }
 ],
 "metadata": {
  "interpreter": {
   "hash": "5d9e70e4fc3b18014a2dbccfc75f3f244178a226f90f19eba2a4079bbbfa6667"
  },
  "kernelspec": {
   "display_name": "Python 3.9.7 ('myPyEnv')",
   "language": "python",
   "name": "python3"
  },
  "language_info": {
   "codemirror_mode": {
    "name": "ipython",
    "version": 3
   },
   "file_extension": ".py",
   "mimetype": "text/x-python",
   "name": "python",
   "nbconvert_exporter": "python",
   "pygments_lexer": "ipython3",
   "version": "3.9.7"
  },
  "orig_nbformat": 4
 },
 "nbformat": 4,
 "nbformat_minor": 2
}
